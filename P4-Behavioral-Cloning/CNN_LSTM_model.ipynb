{
 "cells": [
  {
   "cell_type": "code",
   "execution_count": 5,
   "metadata": {},
   "outputs": [],
   "source": [
    "# import libs\n",
    "import keras \n",
    "from keras import layers\n",
    "import numpy as np\n",
    "import tensorflow as tf\n",
    "from keras.preprocessing.image import ImageDataGenerator\n",
    "\n",
    "import csv\n",
    "import matplotlib.pyplot  as plt\n",
    "%matplotlib inline"
   ]
  },
  {
   "cell_type": "code",
   "execution_count": 6,
   "metadata": {},
   "outputs": [],
   "source": [
    "#reading images into array\n",
    "driving_log_dir = './sim_data/20190725/driving_log.csv'\n",
    "\n",
    "images = []\n",
    "measurements = []\n",
    "\n",
    "with open(driving_log_dir) as csvfile:\n",
    "    reader = csv.reader(csvfile, delimiter=\",\")\n",
    "    for line in reader:\n",
    "        images.append(plt.imread(line[0]))\n",
    "#         measurement = []\n",
    "#         for m in line[3:]:\n",
    "#             measurement.append(m)\n",
    "#         measurements.append(measurement)\n",
    "        measurements.append(line[3])\n",
    "        \n",
    "images = np.array(images)\n",
    "measurements = np.array(np.array(measurements))"
   ]
  },
  {
   "cell_type": "code",
   "execution_count": 7,
   "metadata": {},
   "outputs": [
    {
     "name": "stdout",
     "output_type": "stream",
     "text": [
      "(160, 320, 3)\n"
     ]
    }
   ],
   "source": [
    "print(images[0].shape)"
   ]
  },
  {
   "cell_type": "code",
   "execution_count": 11,
   "metadata": {},
   "outputs": [],
   "source": [
    "#building baseline model for testing \n",
    "def cnn_model(Input):\n",
    "    x = layers.Lambda(lambda x: (x/255.0)-0.5)(Input)\n",
    "    x = layers.Cropping2D(cropping=((70,25), (0,0)))(x)\n",
    "    x = layers.Conv2D(32, (3,3), padding='same', activation='relu')(x)\n",
    "    x = layers.MaxPool2D((2,2))(x)\n",
    "    x = layers.BatchNormalization()(x)\n",
    "    x = layers.Conv2D(64, (3,3), padding='same', activation='relu')(x)\n",
    "    x = layers.MaxPool2D((2,2))(x)\n",
    "    x = layers.BatchNormalization()(x)\n",
    "    x = layers.Conv2D(128, (3,3), padding='same', activation='relu')(x)\n",
    "    x = layers.MaxPool2D((2,2))(x)\n",
    "    x = layers.BatchNormalization()(x)\n",
    "    x = layers.Flatten()(x)\n",
    "    x = layers.Dense(64, activation='relu')(x)\n",
    "    x = layers.Dense(1)(x)\n",
    "    return x "
   ]
  },
  {
   "cell_type": "code",
   "execution_count": 12,
   "metadata": {},
   "outputs": [],
   "source": [
    "img_input = layers.Input(shape=(160,320,3))"
   ]
  },
  {
   "cell_type": "code",
   "execution_count": 13,
   "metadata": {},
   "outputs": [
    {
     "name": "stdout",
     "output_type": "stream",
     "text": [
      "WARNING:tensorflow:From /home/alex/.conda/envs/tf/lib/python3.7/site-packages/tensorflow/python/framework/op_def_library.py:263: colocate_with (from tensorflow.python.framework.ops) is deprecated and will be removed in a future version.\n",
      "Instructions for updating:\n",
      "Colocations handled automatically by placer.\n"
     ]
    }
   ],
   "source": [
    "output = cnn_model(img_input)"
   ]
  },
  {
   "cell_type": "code",
   "execution_count": 14,
   "metadata": {},
   "outputs": [],
   "source": [
    "model = keras.Model(inputs = img_input, outputs=output)"
   ]
  },
  {
   "cell_type": "code",
   "execution_count": 15,
   "metadata": {},
   "outputs": [
    {
     "name": "stdout",
     "output_type": "stream",
     "text": [
      "_________________________________________________________________\n",
      "Layer (type)                 Output Shape              Param #   \n",
      "=================================================================\n",
      "input_2 (InputLayer)         (None, 160, 320, 3)       0         \n",
      "_________________________________________________________________\n",
      "lambda_2 (Lambda)            (None, 160, 320, 3)       0         \n",
      "_________________________________________________________________\n",
      "cropping2d_2 (Cropping2D)    (None, 65, 320, 3)        0         \n",
      "_________________________________________________________________\n",
      "conv2d_2 (Conv2D)            (None, 65, 320, 32)       896       \n",
      "_________________________________________________________________\n",
      "max_pooling2d_1 (MaxPooling2 (None, 32, 160, 32)       0         \n",
      "_________________________________________________________________\n",
      "batch_normalization_1 (Batch (None, 32, 160, 32)       128       \n",
      "_________________________________________________________________\n",
      "conv2d_3 (Conv2D)            (None, 32, 160, 64)       18496     \n",
      "_________________________________________________________________\n",
      "max_pooling2d_2 (MaxPooling2 (None, 16, 80, 64)        0         \n",
      "_________________________________________________________________\n",
      "batch_normalization_2 (Batch (None, 16, 80, 64)        256       \n",
      "_________________________________________________________________\n",
      "conv2d_4 (Conv2D)            (None, 16, 80, 128)       73856     \n",
      "_________________________________________________________________\n",
      "max_pooling2d_3 (MaxPooling2 (None, 8, 40, 128)        0         \n",
      "_________________________________________________________________\n",
      "batch_normalization_3 (Batch (None, 8, 40, 128)        512       \n",
      "_________________________________________________________________\n",
      "flatten_1 (Flatten)          (None, 40960)             0         \n",
      "_________________________________________________________________\n",
      "dense_1 (Dense)              (None, 64)                2621504   \n",
      "_________________________________________________________________\n",
      "dense_2 (Dense)              (None, 1)                 65        \n",
      "=================================================================\n",
      "Total params: 2,715,713\n",
      "Trainable params: 2,715,265\n",
      "Non-trainable params: 448\n",
      "_________________________________________________________________\n"
     ]
    }
   ],
   "source": [
    "model.summary()"
   ]
  },
  {
   "cell_type": "code",
   "execution_count": 16,
   "metadata": {},
   "outputs": [],
   "source": [
    "model.compile(optimizer='adam',\n",
    "             loss='mse',\n",
    "             metrics=['mse'])"
   ]
  },
  {
   "cell_type": "code",
   "execution_count": 17,
   "metadata": {},
   "outputs": [
    {
     "name": "stdout",
     "output_type": "stream",
     "text": [
      "WARNING:tensorflow:From /home/alex/.conda/envs/tf/lib/python3.7/site-packages/tensorflow/python/ops/math_ops.py:3066: to_int32 (from tensorflow.python.ops.math_ops) is deprecated and will be removed in a future version.\n",
      "Instructions for updating:\n",
      "Use tf.cast instead.\n",
      "Train on 2383 samples, validate on 596 samples\n",
      "Epoch 1/10\n",
      "2383/2383 [==============================] - 10s 4ms/step - loss: 35.6464 - mean_squared_error: 35.6464 - val_loss: 0.0223 - val_mean_squared_error: 0.0223\n",
      "Epoch 2/10\n",
      "2383/2383 [==============================] - 6s 2ms/step - loss: 0.1414 - mean_squared_error: 0.1414 - val_loss: 0.0235 - val_mean_squared_error: 0.0235\n",
      "Epoch 3/10\n",
      "2383/2383 [==============================] - 6s 2ms/step - loss: 0.0712 - mean_squared_error: 0.0712 - val_loss: 0.0198 - val_mean_squared_error: 0.0198\n",
      "Epoch 4/10\n",
      "2383/2383 [==============================] - 6s 3ms/step - loss: 0.0658 - mean_squared_error: 0.0658 - val_loss: 0.0194 - val_mean_squared_error: 0.0194\n",
      "Epoch 5/10\n",
      "2383/2383 [==============================] - 7s 3ms/step - loss: 0.0614 - mean_squared_error: 0.0614 - val_loss: 0.0233 - val_mean_squared_error: 0.0233\n",
      "Epoch 6/10\n",
      "2383/2383 [==============================] - 7s 3ms/step - loss: 0.0582 - mean_squared_error: 0.0582 - val_loss: 0.0238 - val_mean_squared_error: 0.0238\n",
      "Epoch 7/10\n",
      "2383/2383 [==============================] - 6s 2ms/step - loss: 0.0564 - mean_squared_error: 0.0564 - val_loss: 0.0256 - val_mean_squared_error: 0.0256\n",
      "Epoch 8/10\n",
      "2383/2383 [==============================] - 6s 2ms/step - loss: 0.0549 - mean_squared_error: 0.0549 - val_loss: 0.0242 - val_mean_squared_error: 0.0242\n",
      "Epoch 9/10\n",
      "2383/2383 [==============================] - 6s 3ms/step - loss: 0.0532 - mean_squared_error: 0.0532 - val_loss: 0.0258 - val_mean_squared_error: 0.0258\n",
      "Epoch 10/10\n",
      "2383/2383 [==============================] - 6s 2ms/step - loss: 0.0518 - mean_squared_error: 0.0518 - val_loss: 0.0322 - val_mean_squared_error: 0.0322\n"
     ]
    },
    {
     "data": {
      "text/plain": [
       "<keras.callbacks.History at 0x7f33946f2dd8>"
      ]
     },
     "execution_count": 17,
     "metadata": {},
     "output_type": "execute_result"
    }
   ],
   "source": [
    "model.fit(images, measurements,\n",
    "          validation_split=0.2,\n",
    "          shuffle=True,\n",
    "         batch_size=64,\n",
    "         epochs=10,\n",
    "         verbose=1)"
   ]
  },
  {
   "cell_type": "code",
   "execution_count": 18,
   "metadata": {},
   "outputs": [],
   "source": [
    "model.save('./baseline.h5')"
   ]
  },
  {
   "cell_type": "code",
   "execution_count": null,
   "metadata": {},
   "outputs": [],
   "source": []
  }
 ],
 "metadata": {
  "kernelspec": {
   "display_name": "Python 3",
   "language": "python",
   "name": "python3"
  },
  "language_info": {
   "codemirror_mode": {
    "name": "ipython",
    "version": 3
   },
   "file_extension": ".py",
   "mimetype": "text/x-python",
   "name": "python",
   "nbconvert_exporter": "python",
   "pygments_lexer": "ipython3",
   "version": "3.7.3"
  }
 },
 "nbformat": 4,
 "nbformat_minor": 2
}
