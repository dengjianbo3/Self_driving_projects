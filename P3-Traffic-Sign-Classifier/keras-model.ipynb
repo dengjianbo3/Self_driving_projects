{
 "cells": [
  {
   "cell_type": "code",
   "execution_count": 42,
   "metadata": {},
   "outputs": [],
   "source": [
    "import sys\n",
    "import os\n",
    "import pickle\n",
    "\n",
    "import tensorflow as tf\n",
    "from tensorflow.keras import layers\n",
    "from tensorflow.keras.preprocessing import image\n",
    "import numpy \n",
    "import pandas\n",
    "\n",
    "import matplotlib.pyplot as plt\n",
    "from sklearn.utils import shuffle\n",
    "%matplotlib inline"
   ]
  },
  {
   "cell_type": "code",
   "execution_count": 43,
   "metadata": {},
   "outputs": [],
   "source": [
    "def read_pickle(file_path):\n",
    "    with open(file_path, 'rb') as f:\n",
    "        file = pickle.load(f)\n",
    "    return file"
   ]
  },
  {
   "cell_type": "code",
   "execution_count": 44,
   "metadata": {},
   "outputs": [],
   "source": [
    "train_file = './traffic-signs-data/train.p'\n",
    "valid_file = './traffic-signs-data/valid.p'\n",
    "test_file = './traffic-signs-data/test.p'\n",
    "\n",
    "train = read_pickle(train_file)\n",
    "valid = read_pickle(valid_file)\n",
    "test = read_pickle(test_file)"
   ]
  },
  {
   "cell_type": "code",
   "execution_count": 45,
   "metadata": {},
   "outputs": [
    {
     "name": "stdout",
     "output_type": "stream",
     "text": [
      "training data :  34799\n",
      "validating data :  4410\n",
      "testing data :  12630\n"
     ]
    }
   ],
   "source": [
    "x_train, y_train = train['features'], train['labels']\n",
    "x_valid, y_valid = valid['features'], valid['labels']\n",
    "x_test, y_test = test['features'], test['labels']\n",
    "\n",
    "\n",
    "print('training data : ', len(x_train))\n",
    "print('validating data : ', len(x_valid))\n",
    "print('testing data : ', len(x_test))"
   ]
  },
  {
   "cell_type": "code",
   "execution_count": 87,
   "metadata": {},
   "outputs": [
    {
     "name": "stdout",
     "output_type": "stream",
     "text": [
      "Model: \"sequential_12\"\n",
      "_________________________________________________________________\n",
      "Layer (type)                 Output Shape              Param #   \n",
      "=================================================================\n",
      "conv2d_46 (Conv2D)           (None, 32, 32, 32)        896       \n",
      "_________________________________________________________________\n",
      "max_pooling2d_46 (MaxPooling (None, 16, 16, 32)        0         \n",
      "_________________________________________________________________\n",
      "batch_normalization_22 (Batc (None, 16, 16, 32)        128       \n",
      "_________________________________________________________________\n",
      "conv2d_47 (Conv2D)           (None, 16, 16, 64)        18496     \n",
      "_________________________________________________________________\n",
      "max_pooling2d_47 (MaxPooling (None, 8, 8, 64)          0         \n",
      "_________________________________________________________________\n",
      "batch_normalization_23 (Batc (None, 8, 8, 64)          256       \n",
      "_________________________________________________________________\n",
      "conv2d_48 (Conv2D)           (None, 8, 8, 128)         73856     \n",
      "_________________________________________________________________\n",
      "max_pooling2d_48 (MaxPooling (None, 4, 4, 128)         0         \n",
      "_________________________________________________________________\n",
      "batch_normalization_24 (Batc (None, 4, 4, 128)         512       \n",
      "_________________________________________________________________\n",
      "flatten_12 (Flatten)         (None, 2048)              0         \n",
      "_________________________________________________________________\n",
      "dense_33 (Dense)             (None, 64)                131136    \n",
      "_________________________________________________________________\n",
      "dense_34 (Dense)             (None, 43)                2795      \n",
      "=================================================================\n",
      "Total params: 228,075\n",
      "Trainable params: 227,627\n",
      "Non-trainable params: 448\n",
      "_________________________________________________________________\n"
     ]
    }
   ],
   "source": [
    "model = tf.keras.Sequential([\n",
    "    layers.Conv2D(input_shape=(32,32,3), filters=32, kernel_size=(3,3), strides=(1,1), padding='same', activation='relu'),\n",
    "    layers.MaxPool2D((2,2)),\n",
    "    layers.BatchNormalization(),\n",
    "    layers.Conv2D(filters=64, kernel_size=(3,3), strides=(1,1), padding='same', activation='relu'),\n",
    "    layers.MaxPool2D((2,2)),\n",
    "    layers.BatchNormalization(),\n",
    "    layers.Conv2D(filters=128, kernel_size=(3,3), strides=(1,1), padding='same', activation='relu'),\n",
    "    layers.MaxPool2D((2,2)),\n",
    "    layers.BatchNormalization(),\n",
    "    layers.Flatten(),\n",
    "    layers.Dense(64, activation='relu'),\n",
    "    layers.Dense(43, activation='softmax')\n",
    "])\n",
    "\n",
    "model.summary()"
   ]
  },
  {
   "cell_type": "code",
   "execution_count": 88,
   "metadata": {},
   "outputs": [],
   "source": [
    "lr = 0.001\n",
    "\n",
    "model.compile(optimizer=tf.optimizers.Adam(lr),\n",
    "             loss=tf.losses.SparseCategoricalCrossentropy(),\n",
    "             metrics=['accuracy'])"
   ]
  },
  {
   "cell_type": "code",
   "execution_count": 89,
   "metadata": {
    "scrolled": true
   },
   "outputs": [
    {
     "name": "stdout",
     "output_type": "stream",
     "text": [
      "Train on 34799 samples, validate on 4410 samples\n",
      "Epoch 1/10\n",
      "34799/34799 [==============================] - 4s 107us/sample - loss: 0.7262 - accuracy: 0.8055 - val_loss: 0.5593 - val_accuracy: 0.8442\n",
      "Epoch 2/10\n",
      "34799/34799 [==============================] - 3s 85us/sample - loss: 0.0398 - accuracy: 0.9928 - val_loss: 0.3534 - val_accuracy: 0.9132\n",
      "Epoch 3/10\n",
      "34799/34799 [==============================] - 3s 85us/sample - loss: 0.0121 - accuracy: 0.9980 - val_loss: 0.4201 - val_accuracy: 0.8905\n",
      "Epoch 4/10\n",
      "34799/34799 [==============================] - 3s 86us/sample - loss: 0.0048 - accuracy: 0.9995 - val_loss: 0.3097 - val_accuracy: 0.9247\n",
      "Epoch 5/10\n",
      "34799/34799 [==============================] - 3s 86us/sample - loss: 0.0091 - accuracy: 0.9977 - val_loss: 0.5020 - val_accuracy: 0.8744\n",
      "Epoch 6/10\n",
      "34799/34799 [==============================] - 3s 85us/sample - loss: 0.0342 - accuracy: 0.9903 - val_loss: 0.3414 - val_accuracy: 0.9190\n",
      "Epoch 7/10\n",
      "34799/34799 [==============================] - 3s 85us/sample - loss: 0.0142 - accuracy: 0.9954 - val_loss: 0.3729 - val_accuracy: 0.9197\n",
      "Epoch 8/10\n",
      "34799/34799 [==============================] - 3s 86us/sample - loss: 0.0025 - accuracy: 0.9993 - val_loss: 0.2834 - val_accuracy: 0.9474\n",
      "Epoch 9/10\n",
      "34799/34799 [==============================] - 3s 86us/sample - loss: 0.0029 - accuracy: 0.9992 - val_loss: 0.2798 - val_accuracy: 0.9347\n",
      "Epoch 10/10\n",
      "34799/34799 [==============================] - 3s 87us/sample - loss: 0.0036 - accuracy: 0.9991 - val_loss: 0.2773 - val_accuracy: 0.9454\n"
     ]
    }
   ],
   "source": [
    "# x_train, x_valid = x_train/255.0, x_valid/255.0\n",
    "history = model.fit(x_train, y_train, validation_data=(x_valid, y_valid), \n",
    "                   batch_size=128,\n",
    "                   epochs=10,\n",
    "                   shuffle=True,\n",
    "                   verbose=1)"
   ]
  },
  {
   "cell_type": "code",
   "execution_count": 90,
   "metadata": {},
   "outputs": [
    {
     "data": {
      "image/png": "[encoded data removed]",
      "text/plain": [
       "<Figure size 432x288 with 1 Axes>"
      ]
     },
     "metadata": {
      "needs_background": "light"
     },
     "output_type": "display_data"
    }
   ],
   "source": [
    "plt.plot(history.history['loss'])\n",
    "plt.plot(history.history['val_loss'])\n",
    "plt.legend(['training', 'valivation'], loc='upper left')\n",
    "plt.grid()\n",
    "plt.show()"
   ]
  },
  {
   "cell_type": "code",
   "execution_count": 91,
   "metadata": {},
   "outputs": [
    {
     "name": "stdout",
     "output_type": "stream",
     "text": [
      "12630/12630 [==============================] - 1s 69us/sample - loss: 0.2656 - accuracy: 0.9390\n"
     ]
    },
    {
     "data": {
      "text/plain": [
       "[0.26558631009887534, 0.9389549]"
      ]
     },
     "execution_count": 91,
     "metadata": {},
     "output_type": "execute_result"
    }
   ],
   "source": [
    "model.evaluate(x_test, y_test)"
   ]
  },
  {
   "cell_type": "code",
   "execution_count": null,
   "metadata": {},
   "outputs": [],
   "source": []
  }
 ],
 "metadata": {
  "kernelspec": {
   "display_name": "Python 3",
   "language": "python",
   "name": "python3"
  },
  "language_info": {
   "codemirror_mode": {
    "name": "ipython",
    "version": 3
   },
   "file_extension": ".py",
   "mimetype": "text/x-python",
   "name": "python",
   "nbconvert_exporter": "python",
   "pygments_lexer": "ipython3",
   "version": "3.7.3"
  }
 },
 "nbformat": 4,
 "nbformat_minor": 2
}
