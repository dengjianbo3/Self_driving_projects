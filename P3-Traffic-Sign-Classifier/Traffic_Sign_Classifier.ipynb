{
 "cells": [
  {
   "cell_type": "markdown",
   "metadata": {},
   "source": [
    "# Self-Driving Car Engineer Nanodegree\n",
    "\n",
    "## Deep Learning\n",
    "\n",
    "## Project: Build a Traffic Sign Recognition Classifier\n",
    "\n",
    "In this notebook, a template is provided for you to implement your functionality in stages, which is required to successfully complete this project. If additional code is required that cannot be included in the notebook, be sure that the Python code is successfully imported and included in your submission if necessary. \n",
    "\n",
    "> **Note**: Once you have completed all of the code implementations, you need to finalize your work by exporting the iPython Notebook as an HTML document. Before exporting the notebook to html, all of the code cells need to have been run so that reviewers can see the final implementation and output. You can then export the notebook by using the menu above and navigating to  \\n\",\n",
    "    \"**File -> Download as -> HTML (.html)**. Include the finished document along with this notebook as your submission. \n",
    "\n",
    "In addition to implementing code, there is a writeup to complete. The writeup should be completed in a separate file, which can be either a markdown file or a pdf document. There is a [write up template](https://github.com/udacity/CarND-Traffic-Sign-Classifier-Project/blob/master/writeup_template.md) that can be used to guide the writing process. Completing the code template and writeup template will cover all of the [rubric points](https://review.udacity.com/#!/rubrics/481/view) for this project.\n",
    "\n",
    "The [rubric](https://review.udacity.com/#!/rubrics/481/view) contains \"Stand Out Suggestions\" for enhancing the project beyond the minimum requirements. The stand out suggestions are optional. If you decide to pursue the \"stand out suggestions\", you can include the code in this Ipython notebook and also discuss the results in the writeup file.\n",
    "\n",
    "\n",
    ">**Note:** Code and Markdown cells can be executed using the **Shift + Enter** keyboard shortcut. In addition, Markdown cells can be edited by typically double-clicking the cell to enter edit mode."
   ]
  },
  {
   "cell_type": "markdown",
   "metadata": {},
   "source": [
    "---\n",
    "## Step 0: Load The Data"
   ]
  },
  {
   "cell_type": "code",
   "execution_count": 15,
   "metadata": {},
   "outputs": [],
   "source": [
    "# Load pickled data\n",
    "import pickle\n",
    "\n",
    "# TODO: Fill this in based on where you saved the training and testing data\n",
    "\n",
    "training_file = 'traffic-signs-data/train.p'\n",
    "validation_file='traffic-signs-data/valid.p'\n",
    "testing_file = 'traffic-signs-data/test.p'\n",
    "\n",
    "with open(training_file, mode='rb') as f:\n",
    "    train = pickle.load(f)\n",
    "with open(validation_file, mode='rb') as f:\n",
    "    valid = pickle.load(f)\n",
    "with open(testing_file, mode='rb') as f:\n",
    "    test = pickle.load(f)\n",
    "    \n",
    "X_train, y_train = train['features'], train['labels']\n",
    "X_valid, y_valid = valid['features'], valid['labels']\n",
    "X_test, y_test = test['features'], test['labels']"
   ]
  },
  {
   "cell_type": "markdown",
   "metadata": {},
   "source": [
    "---\n",
    "\n",
    "## Step 1: Dataset Summary & Exploration\n",
    "\n",
    "The pickled data is a dictionary with 4 key/value pairs:\n",
    "\n",
    "- `'features'` is a 4D array containing raw pixel data of the traffic sign images, (num examples, width, height, channels).\n",
    "- `'labels'` is a 1D array containing the label/class id of the traffic sign. The file `signnames.csv` contains id -> name mappings for each id.\n",
    "- `'sizes'` is a list containing tuples, (width, height) representing the original width and height the image.\n",
    "- `'coords'` is a list containing tuples, (x1, y1, x2, y2) representing coordinates of a bounding box around the sign in the image. **THESE COORDINATES ASSUME THE ORIGINAL IMAGE. THE PICKLED DATA CONTAINS RESIZED VERSIONS (32 by 32) OF THESE IMAGES**\n",
    "\n",
    "Complete the basic data summary below. Use python, numpy and/or pandas methods to calculate the data summary rather than hard coding the results. For example, the [pandas shape method](http://pandas.pydata.org/pandas-docs/stable/generated/pandas.DataFrame.shape.html) might be useful for calculating some of the summary results. "
   ]
  },
  {
   "cell_type": "markdown",
   "metadata": {},
   "source": [
    "### Provide a Basic Summary of the Data Set Using Python, Numpy and/or Pandas"
   ]
  },
  {
   "cell_type": "code",
   "execution_count": 16,
   "metadata": {},
   "outputs": [
    {
     "name": "stdout",
     "output_type": "stream",
     "text": [
      "Number of training examples = 34799\n",
      "Number of testing examples = 12630\n",
      "Image data shape = (32, 32, 3)\n",
      "Number of classes = 43\n"
     ]
    }
   ],
   "source": [
    "### Replace each question mark with the appropriate value. \n",
    "### Use python, pandas or numpy methods rather than hard coding the results\n",
    "import numpy as np\n",
    "import pandas as pd\n",
    "# TODO: Number of training examples\n",
    "n_train = len(X_train)\n",
    "\n",
    "# TODO: Number of validation examples\n",
    "n_validation = len(y_train)\n",
    "\n",
    "# TODO: Number of testing examples.\n",
    "n_test = len(X_test)\n",
    "\n",
    "# TODO: What's the shape of an traffic sign image?\n",
    "image_shape = X_train[0].shape\n",
    "\n",
    "# TODO: How many unique classes/labels there are in the dataset.\n",
    "n_classes = len(np.unique(y_train))\n",
    "\n",
    "print(\"Number of training examples =\", n_train)\n",
    "print(\"Number of testing examples =\", n_test)\n",
    "print(\"Image data shape =\", image_shape)\n",
    "print(\"Number of classes =\", n_classes)"
   ]
  },
  {
   "cell_type": "markdown",
   "metadata": {},
   "source": [
    "### Include an exploratory visualization of the dataset"
   ]
  },
  {
   "cell_type": "markdown",
   "metadata": {},
   "source": [
    "Visualize the German Traffic Signs Dataset using the pickled file(s). This is open ended, suggestions include: plotting traffic sign images, plotting the count of each sign, etc. \n",
    "\n",
    "The [Matplotlib](http://matplotlib.org/) [examples](http://matplotlib.org/examples/index.html) and [gallery](http://matplotlib.org/gallery.html) pages are a great resource for doing visualizations in Python.\n",
    "\n",
    "**NOTE:** It's recommended you start with something simple first. If you wish to do more, come back to it after you've completed the rest of the sections. It can be interesting to look at the distribution of classes in the training, validation and test set. Is the distribution the same? Are there more examples of some classes than others?"
   ]
  },
  {
   "cell_type": "code",
   "execution_count": 17,
   "metadata": {},
   "outputs": [],
   "source": [
    "### Data exploration visualization code goes here.\n",
    "### Feel free to use as many code cells as needed.\n",
    "import matplotlib.pyplot as plt\n",
    "# Visualizations will be shown in the notebook.\n",
    "%matplotlib inline"
   ]
  },
  {
   "cell_type": "code",
   "execution_count": 18,
   "metadata": {},
   "outputs": [
    {
     "data": {
      "text/html": [
       "<div>\n",
       "<style scoped>\n",
       "    .dataframe tbody tr th:only-of-type {\n",
       "        vertical-align: middle;\n",
       "    }\n",
       "\n",
       "    .dataframe tbody tr th {\n",
       "        vertical-align: top;\n",
       "    }\n",
       "\n",
       "    .dataframe thead th {\n",
       "        text-align: right;\n",
       "    }\n",
       "</style>\n",
       "<table border=\"1\" class=\"dataframe\">\n",
       "  <thead>\n",
       "    <tr style=\"text-align: right;\">\n",
       "      <th></th>\n",
       "      <th>ClassId</th>\n",
       "      <th>SignName</th>\n",
       "    </tr>\n",
       "  </thead>\n",
       "  <tbody>\n",
       "    <tr>\n",
       "      <th>0</th>\n",
       "      <td>0</td>\n",
       "      <td>Speed limit (20km/h)</td>\n",
       "    </tr>\n",
       "    <tr>\n",
       "      <th>1</th>\n",
       "      <td>1</td>\n",
       "      <td>Speed limit (30km/h)</td>\n",
       "    </tr>\n",
       "    <tr>\n",
       "      <th>2</th>\n",
       "      <td>2</td>\n",
       "      <td>Speed limit (50km/h)</td>\n",
       "    </tr>\n",
       "    <tr>\n",
       "      <th>3</th>\n",
       "      <td>3</td>\n",
       "      <td>Speed limit (60km/h)</td>\n",
       "    </tr>\n",
       "    <tr>\n",
       "      <th>4</th>\n",
       "      <td>4</td>\n",
       "      <td>Speed limit (70km/h)</td>\n",
       "    </tr>\n",
       "  </tbody>\n",
       "</table>\n",
       "</div>"
      ],
      "text/plain": [
       "   ClassId              SignName\n",
       "0        0  Speed limit (20km/h)\n",
       "1        1  Speed limit (30km/h)\n",
       "2        2  Speed limit (50km/h)\n",
       "3        3  Speed limit (60km/h)\n",
       "4        4  Speed limit (70km/h)"
      ]
     },
     "execution_count": 18,
     "metadata": {},
     "output_type": "execute_result"
    }
   ],
   "source": [
    "signname = pd.read_csv('./signnames.csv')\n",
    "signname.head()"
   ]
  },
  {
   "cell_type": "code",
   "execution_count": 19,
   "metadata": {},
   "outputs": [
    {
     "data": {
      "image/png": "[encoded data removed]",
      "text/plain": [
       "<Figure size 1296x1080 with 5 Axes>"
      ]
     },
     "metadata": {
      "needs_background": "light"
     },
     "output_type": "display_data"
    }
   ],
   "source": [
    "#plotting training images\n",
    "image_list = [0, 98, 885, 5671, 12313]\n",
    "plt.figure(figsize=(18,15))\n",
    "for i in range(len(image_list)):\n",
    "    plt.subplot(1, len(image_list), i+1)\n",
    "    plt.title(signname['SignName'][y_train[image_list[i]]])\n",
    "    plt.imshow(X_train[image_list[i]])\n",
    "plt.show()"
   ]
  },
  {
   "cell_type": "code",
   "execution_count": 20,
   "metadata": {},
   "outputs": [
    {
     "data": {
      "image/png": "[encoded data removed]",
      "text/plain": [
       "<Figure size 1296x1080 with 5 Axes>"
      ]
     },
     "metadata": {
      "needs_background": "light"
     },
     "output_type": "display_data"
    }
   ],
   "source": [
    "#plotting valid images\n",
    "image_list = [0, 6, 150, 2252, 4012]\n",
    "plt.figure(figsize=(18,15))\n",
    "for i in range(len(image_list)):\n",
    "    plt.subplot(1, len(image_list), i+1)\n",
    "    plt.title(signname['SignName'][y_valid[image_list[i]]])\n",
    "    plt.imshow(X_valid[image_list[i]])\n",
    "plt.show()"
   ]
  },
  {
   "cell_type": "code",
   "execution_count": 21,
   "metadata": {},
   "outputs": [
    {
     "data": {
      "image/png": "[encoded data removed]",
      "text/plain": [
       "<Figure size 1296x1080 with 5 Axes>"
      ]
     },
     "metadata": {
      "needs_background": "light"
     },
     "output_type": "display_data"
    }
   ],
   "source": [
    "#plotting test images\n",
    "image_list = [0, 6, 156, 3585, 12055]\n",
    "plt.figure(figsize=(18,15))\n",
    "for i in range(len(image_list)):\n",
    "    plt.subplot(1, len(image_list), i+1)\n",
    "    plt.title(signname['SignName'][y_test[image_list[i]]])\n",
    "    plt.imshow(X_test[image_list[i]])\n",
    "plt.show()"
   ]
  },
  {
   "cell_type": "markdown",
   "metadata": {},
   "source": [
    "----\n",
    "\n",
    "## Step 2: Design and Test a Model Architecture\n",
    "\n",
    "Design and implement a deep learning model that learns to recognize traffic signs. Train and test your model on the [German Traffic Sign Dataset](http://benchmark.ini.rub.de/?section=gtsrb&subsection=dataset).\n",
    "\n",
    "The LeNet-5 implementation shown in the [classroom](https://classroom.udacity.com/nanodegrees/nd013/parts/fbf77062-5703-404e-b60c-95b78b2f3f9e/modules/6df7ae49-c61c-4bb2-a23e-6527e69209ec/lessons/601ae704-1035-4287-8b11-e2c2716217ad/concepts/d4aca031-508f-4e0b-b493-e7b706120f81) at the end of the CNN lesson is a solid starting point. You'll have to change the number of classes and possibly the preprocessing, but aside from that it's plug and play! \n",
    "\n",
    "With the LeNet-5 solution from the lecture, you should expect a validation set accuracy of about 0.89. To meet specifications, the validation set accuracy will need to be at least 0.93. It is possible to get an even higher accuracy, but 0.93 is the minimum for a successful project submission. \n",
    "\n",
    "There are various aspects to consider when thinking about this problem:\n",
    "\n",
    "- Neural network architecture (is the network over or underfitting?)\n",
    "- Play around preprocessing techniques (normalization, rgb to grayscale, etc)\n",
    "- Number of examples per label (some have more than others).\n",
    "- Generate fake data.\n",
    "\n",
    "Here is an example of a [published baseline model on this problem](http://yann.lecun.com/exdb/publis/pdf/sermanet-ijcnn-11.pdf). It's not required to be familiar with the approach used in the paper but, it's good practice to try to read papers like these."
   ]
  },
  {
   "cell_type": "markdown",
   "metadata": {},
   "source": [
    "### Pre-process the Data Set (normalization, grayscale, etc.)"
   ]
  },
  {
   "cell_type": "markdown",
   "metadata": {},
   "source": [
    "Minimally, the image data should be normalized so that the data has mean zero and equal variance. For image data, `(pixel - 128)/ 128` is a quick way to approximately normalize the data and can be used in this project. \n",
    "\n",
    "Other pre-processing steps are optional. You can try different techniques to see if it improves performance. \n",
    "\n",
    "Use the code cell (or multiple code cells, if necessary) to implement the first step of your project."
   ]
  },
  {
   "cell_type": "code",
   "execution_count": 22,
   "metadata": {},
   "outputs": [],
   "source": [
    "### Preprocess the data here. It is required to normalize the data. Other preprocessing steps could include \n",
    "### converting to grayscale, etc.\n",
    "### Feel free to use as many code cells as needed.\n",
    "#data augumentaion\n",
    "import tensorflow as tf\n",
    "from tensorflow.contrib.layers import flatten\n",
    "from tensorflow.keras.preprocessing.image import ImageDataGenerator\n",
    "from sklearn.utils import shuffle\n",
    "\n",
    "data_gen = ImageDataGenerator(rescale=1/255.,  horizontal_flip=True,  vertical_flip=True, shear_range=0.2)\n",
    "\n",
    "x_train = (X_train - 128.)/128."
   ]
  },
  {
   "cell_type": "markdown",
   "metadata": {},
   "source": [
    "### Model Architecture"
   ]
  },
  {
   "cell_type": "code",
   "execution_count": 23,
   "metadata": {},
   "outputs": [],
   "source": [
    "def conv_layer(input_x, filter_shape, strides=[1,1,1,1],  pool_size=[1,2,2,1], pool_strides=[1,2,2,1], padding='SAME' , pool_pad='VALID', bn=False):\n",
    "    mu = 0\n",
    "    sigma = 0.1\n",
    "    conv_W = tf.Variable(tf.truncated_normal(shape=filter_shape, mean=mu, stddev=sigma))\n",
    "    conv_b = tf.Variable(tf.zeros(int(filter_shape[-1])))\n",
    "    conv = tf.nn.conv2d(input_x,  conv_W, strides=strides, padding=padding) + conv_b\n",
    "    if bn:\n",
    "        conv = tf.layers.batch_normalization(conv)\n",
    "    conv = tf.nn.relu(conv)\n",
    "    conv = tf.nn.max_pool(conv, ksize=pool_size, strides=pool_strides, padding=pool_pad)\n",
    "    return conv"
   ]
  },
  {
   "cell_type": "code",
   "execution_count": 24,
   "metadata": {},
   "outputs": [],
   "source": [
    "### Define your architecture here.\n",
    "### Feel free to use as many code cells as needed.\n",
    "def model(x):\n",
    "    mu = 0\n",
    "    sigma = 0.1\n",
    "    batch_normalization=True\n",
    "    \n",
    "    conv1 = conv_layer(x, (3,3,3,32), bn=batch_normalization)\n",
    "    \n",
    "    conv2 = conv_layer(conv1, (5,5,32,64), bn=batch_normalization)\n",
    "    \n",
    "    conv3 = conv_layer(conv2, (5,5,64,128), bn=batch_normalization)\n",
    "     \n",
    "    #flatten， input shape is 4x4x128, output is 2048\n",
    "    f0 = flatten(conv3)\n",
    "    \n",
    "    #fully conective layer\n",
    "    f1_W = tf.Variable(tf.truncated_normal(shape=(2048,128), mean=mu, stddev=sigma))\n",
    "    f1_b = tf.Variable(tf.zeros(128))\n",
    "    f1 = tf.matmul(f0, f1_W)+f1_b\n",
    "    f1 = tf.nn.relu(f1)\n",
    "    if not batch_normalization:\n",
    "        f1 = tf.nn.dropout(f1, 0.5)\n",
    "\n",
    "    f2_W = tf.Variable(tf.truncated_normal(shape=(128,64), mean=mu, stddev=sigma))\n",
    "    f2_b = tf.Variable(tf.zeros(64))\n",
    "    f2 = tf.matmul(f1, f2_W)+f2_b\n",
    "    f2 = tf.nn.relu(f2)\n",
    "    if not batch_normalization:\n",
    "        f2 = tf.nn.dropout(f2, 0.5)\n",
    "\n",
    "    logit_W = tf.Variable(tf.truncated_normal(shape=(64, 43), mean=mu, stddev=sigma))\n",
    "    logit_b = tf.Variable(tf.zeros(43))\n",
    "    logit = tf.matmul(f2, logit_W)+logit_b\n",
    "    \n",
    "    return logit"
   ]
  },
  {
   "cell_type": "markdown",
   "metadata": {},
   "source": [
    "### Train, Validate and Test the Model"
   ]
  },
  {
   "cell_type": "markdown",
   "metadata": {},
   "source": [
    "A validation set can be used to assess how well the model is performing. A low accuracy on the training and validation\n",
    "sets imply underfitting. A high accuracy on the training set but low accuracy on the validation set implies overfitting."
   ]
  },
  {
   "cell_type": "code",
   "execution_count": 25,
   "metadata": {},
   "outputs": [],
   "source": [
    "### Train your model here.\n",
    "### Calculate and report the accuracy on the training and validation set.\n",
    "### Once a final model architecture is selected, \n",
    "### the accuracy on the test set should be calculated and reported as well.\n",
    "### Feel free to use as many code cells as needed.\n",
    "x_train, y_train = shuffle(X_train, y_train, random_state=123)\n",
    "\n",
    "EPOCHS = 1000\n",
    "BATCH_SIZE = 128\n",
    "\n",
    "x = tf.placeholder(tf.float32, (None, 32,32,3))\n",
    "y = tf.placeholder(tf.int32, (None))\n",
    "one_hot_y = tf.one_hot(y, 43)"
   ]
  },
  {
   "cell_type": "code",
   "execution_count": 26,
   "metadata": {},
   "outputs": [],
   "source": [
    "lr = 1e-3\n",
    "\n",
    "logit = model(x)\n",
    "cross_entropy = tf.nn.softmax_cross_entropy_with_logits(labels = one_hot_y, logits = logit)\n",
    "loss = tf.reduce_mean(cross_entropy)\n",
    "optimizer = tf.train.AdamOptimizer(lr)\n",
    "train_operation = optimizer.minimize(loss)"
   ]
  },
  {
   "cell_type": "code",
   "execution_count": 27,
   "metadata": {},
   "outputs": [],
   "source": [
    "correct_prediction = tf.equal(tf.argmax(logit, 1), tf.argmax(one_hot_y, 1))\n",
    "accuracy_operation = tf.reduce_mean(tf.cast(correct_prediction, tf.float32))\n",
    "saver = tf.train.Saver()\n",
    "\n",
    "def evaluate(x_data, y_data):\n",
    "    num_examples = len(x_data)\n",
    "    total_accuracy = 0\n",
    "    sess = tf.get_default_session()\n",
    "    for offset in range(0, num_examples, BATCH_SIZE):\n",
    "        batch_x = x_data[offset:offset+BATCH_SIZE]\n",
    "        batch_y = y_data[offset:offset+BATCH_SIZE]\n",
    "        accuracy = sess.run(accuracy_operation, feed_dict={x:batch_x, y:batch_y})\n",
    "        total_accuracy += (accuracy * (len(batch_x)))\n",
    "    return total_accuracy/num_examples"
   ]
  },
  {
   "cell_type": "code",
   "execution_count": null,
   "metadata": {
    "scrolled": true
   },
   "outputs": [
    {
     "name": "stdout",
     "output_type": "stream",
     "text": [
      "EPOCH : 0,  Training accuracy : 0.114,  Validation accuracy : 0.105,  using : 5.77 seconds\n",
      "EPOCH : 1,  Training accuracy : 0.377,  Validation accuracy : 0.305,  using : 5.51 seconds\n",
      "EPOCH : 2,  Training accuracy : 0.564,  Validation accuracy : 0.461,  using : 5.38 seconds\n",
      "EPOCH : 3,  Training accuracy : 0.700,  Validation accuracy : 0.545,  using : 5.34 seconds\n",
      "EPOCH : 4,  Training accuracy : 0.792,  Validation accuracy : 0.629,  using : 5.36 seconds\n",
      "EPOCH : 5,  Training accuracy : 0.862,  Validation accuracy : 0.696,  using : 5.43 seconds\n",
      "EPOCH : 6,  Training accuracy : 0.911,  Validation accuracy : 0.728,  using : 5.42 seconds\n",
      "EPOCH : 7,  Training accuracy : 0.917,  Validation accuracy : 0.724,  using : 5.69 seconds\n",
      "EPOCH : 8,  Training accuracy : 0.945,  Validation accuracy : 0.755,  using : 5.59 seconds\n",
      "EPOCH : 9,  Training accuracy : 0.959,  Validation accuracy : 0.781,  using : 5.61 seconds\n",
      "EPOCH : 10,  Training accuracy : 0.973,  Validation accuracy : 0.792,  using : 5.52 seconds\n",
      "EPOCH : 11,  Training accuracy : 0.964,  Validation accuracy : 0.793,  using : 5.54 seconds\n",
      "EPOCH : 12,  Training accuracy : 0.964,  Validation accuracy : 0.787,  using : 5.52 seconds\n",
      "EPOCH : 13,  Training accuracy : 0.986,  Validation accuracy : 0.832,  using : 5.55 seconds\n",
      "EPOCH : 14,  Training accuracy : 0.978,  Validation accuracy : 0.810,  using : 5.57 seconds\n",
      "EPOCH : 15,  Training accuracy : 0.967,  Validation accuracy : 0.816,  using : 5.76 seconds\n",
      "EPOCH : 16,  Training accuracy : 0.988,  Validation accuracy : 0.839,  using : 5.80 seconds\n",
      "EPOCH : 17,  Training accuracy : 0.963,  Validation accuracy : 0.805,  using : 6.15 seconds\n",
      "EPOCH : 18,  Training accuracy : 0.985,  Validation accuracy : 0.841,  using : 6.05 seconds\n",
      "EPOCH : 19,  Training accuracy : 0.994,  Validation accuracy : 0.859,  using : 5.95 seconds\n",
      "EPOCH : 20,  Training accuracy : 0.990,  Validation accuracy : 0.853,  using : 5.97 seconds\n",
      "EPOCH : 21,  Training accuracy : 0.981,  Validation accuracy : 0.866,  using : 6.45 seconds\n",
      "EPOCH : 22,  Training accuracy : 0.985,  Validation accuracy : 0.872,  using : 6.75 seconds\n",
      "EPOCH : 23,  Training accuracy : 0.993,  Validation accuracy : 0.876,  using : 6.56 seconds\n",
      "EPOCH : 24,  Training accuracy : 0.984,  Validation accuracy : 0.873,  using : 6.78 seconds\n",
      "EPOCH : 25,  Training accuracy : 0.987,  Validation accuracy : 0.860,  using : 6.59 seconds\n",
      "EPOCH : 26,  Training accuracy : 0.987,  Validation accuracy : 0.874,  using : 6.89 seconds\n",
      "EPOCH : 27,  Training accuracy : 0.993,  Validation accuracy : 0.876,  using : 6.72 seconds\n",
      "EPOCH : 28,  Training accuracy : 0.991,  Validation accuracy : 0.880,  using : 6.86 seconds\n",
      "EPOCH : 29,  Training accuracy : 0.990,  Validation accuracy : 0.878,  using : 6.75 seconds\n",
      "EPOCH : 30,  Training accuracy : 0.975,  Validation accuracy : 0.849,  using : 6.21 seconds\n",
      "EPOCH : 31,  Training accuracy : 0.994,  Validation accuracy : 0.908,  using : 6.70 seconds\n",
      "EPOCH : 32,  Training accuracy : 0.996,  Validation accuracy : 0.913,  using : 6.85 seconds\n",
      "EPOCH : 33,  Training accuracy : 0.995,  Validation accuracy : 0.905,  using : 6.77 seconds\n",
      "EPOCH : 34,  Training accuracy : 0.997,  Validation accuracy : 0.914,  using : 7.12 seconds\n",
      "EPOCH : 35,  Training accuracy : 0.992,  Validation accuracy : 0.905,  using : 6.69 seconds\n",
      "EPOCH : 36,  Training accuracy : 0.995,  Validation accuracy : 0.921,  using : 6.83 seconds\n",
      "EPOCH : 37,  Training accuracy : 0.995,  Validation accuracy : 0.911,  using : 6.15 seconds\n",
      "EPOCH : 38,  Training accuracy : 0.998,  Validation accuracy : 0.898,  using : 6.25 seconds\n",
      "EPOCH : 39,  Training accuracy : 0.986,  Validation accuracy : 0.878,  using : 6.26 seconds\n",
      "EPOCH : 40,  Training accuracy : 0.974,  Validation accuracy : 0.885,  using : 6.70 seconds\n",
      "EPOCH : 41,  Training accuracy : 0.994,  Validation accuracy : 0.905,  using : 6.74 seconds\n",
      "EPOCH : 42,  Training accuracy : 0.997,  Validation accuracy : 0.919,  using : 6.14 seconds\n",
      "EPOCH : 43,  Training accuracy : 0.989,  Validation accuracy : 0.907,  using : 5.79 seconds\n",
      "EPOCH : 44,  Training accuracy : 0.995,  Validation accuracy : 0.915,  using : 5.83 seconds\n",
      "EPOCH : 45,  Training accuracy : 0.991,  Validation accuracy : 0.920,  using : 5.90 seconds\n",
      "EPOCH : 46,  Training accuracy : 0.997,  Validation accuracy : 0.918,  using : 5.74 seconds\n",
      "EPOCH : 47,  Training accuracy : 0.998,  Validation accuracy : 0.931,  using : 5.69 seconds\n",
      "EPOCH : 48,  Training accuracy : 0.996,  Validation accuracy : 0.927,  using : 5.74 seconds\n",
      "EPOCH : 49,  Training accuracy : 0.990,  Validation accuracy : 0.916,  using : 6.06 seconds\n",
      "EPOCH : 50,  Training accuracy : 0.993,  Validation accuracy : 0.918,  using : 6.24 seconds\n",
      "EPOCH : 51,  Training accuracy : 0.995,  Validation accuracy : 0.919,  using : 6.55 seconds\n",
      "EPOCH : 52,  Training accuracy : 0.998,  Validation accuracy : 0.934,  using : 7.08 seconds\n",
      "EPOCH : 53,  Training accuracy : 0.983,  Validation accuracy : 0.902,  using : 6.73 seconds\n",
      "EPOCH : 54,  Training accuracy : 0.997,  Validation accuracy : 0.938,  using : 6.78 seconds\n",
      "EPOCH : 55,  Training accuracy : 0.995,  Validation accuracy : 0.921,  using : 6.85 seconds\n",
      "EPOCH : 56,  Training accuracy : 0.995,  Validation accuracy : 0.924,  using : 6.70 seconds\n",
      "EPOCH : 57,  Training accuracy : 0.986,  Validation accuracy : 0.908,  using : 7.08 seconds\n",
      "EPOCH : 58,  Training accuracy : 0.998,  Validation accuracy : 0.937,  using : 7.05 seconds\n",
      "EPOCH : 59,  Training accuracy : 0.999,  Validation accuracy : 0.950,  using : 6.98 seconds\n",
      "EPOCH : 60,  Training accuracy : 0.995,  Validation accuracy : 0.925,  using : 7.02 seconds\n",
      "EPOCH : 61,  Training accuracy : 0.995,  Validation accuracy : 0.929,  using : 6.89 seconds\n",
      "EPOCH : 62,  Training accuracy : 0.993,  Validation accuracy : 0.938,  using : 6.70 seconds\n",
      "EPOCH : 63,  Training accuracy : 0.999,  Validation accuracy : 0.954,  using : 6.78 seconds\n",
      "EPOCH : 64,  Training accuracy : 0.996,  Validation accuracy : 0.938,  using : 7.05 seconds\n",
      "EPOCH : 65,  Training accuracy : 0.998,  Validation accuracy : 0.937,  using : 7.00 seconds\n",
      "EPOCH : 66,  Training accuracy : 0.998,  Validation accuracy : 0.940,  using : 7.01 seconds\n",
      "EPOCH : 67,  Training accuracy : 0.997,  Validation accuracy : 0.922,  using : 7.01 seconds\n",
      "EPOCH : 68,  Training accuracy : 0.993,  Validation accuracy : 0.927,  using : 6.70 seconds\n",
      "EPOCH : 69,  Training accuracy : 0.994,  Validation accuracy : 0.927,  using : 6.24 seconds\n",
      "EPOCH : 70,  Training accuracy : 0.998,  Validation accuracy : 0.942,  using : 6.81 seconds\n",
      "EPOCH : 71,  Training accuracy : 0.998,  Validation accuracy : 0.935,  using : 6.08 seconds\n",
      "EPOCH : 72,  Training accuracy : 0.993,  Validation accuracy : 0.918,  using : 6.00 seconds\n",
      "EPOCH : 73,  Training accuracy : 0.996,  Validation accuracy : 0.923,  using : 5.69 seconds\n",
      "EPOCH : 74,  Training accuracy : 0.999,  Validation accuracy : 0.949,  using : 5.81 seconds\n",
      "EPOCH : 75,  Training accuracy : 0.994,  Validation accuracy : 0.922,  using : 5.72 seconds\n",
      "EPOCH : 76,  Training accuracy : 0.997,  Validation accuracy : 0.924,  using : 5.86 seconds\n",
      "EPOCH : 77,  Training accuracy : 0.999,  Validation accuracy : 0.946,  using : 5.83 seconds\n",
      "EPOCH : 78,  Training accuracy : 0.999,  Validation accuracy : 0.956,  using : 5.79 seconds\n",
      "EPOCH : 79,  Training accuracy : 1.000,  Validation accuracy : 0.945,  using : 5.74 seconds\n",
      "EPOCH : 80,  Training accuracy : 1.000,  Validation accuracy : 0.945,  using : 5.71 seconds\n",
      "EPOCH : 81,  Training accuracy : 1.000,  Validation accuracy : 0.941,  using : 5.70 seconds\n",
      "EPOCH : 82,  Training accuracy : 0.991,  Validation accuracy : 0.915,  using : 5.73 seconds\n",
      "EPOCH : 83,  Training accuracy : 0.998,  Validation accuracy : 0.945,  using : 5.84 seconds\n",
      "EPOCH : 84,  Training accuracy : 0.998,  Validation accuracy : 0.934,  using : 5.72 seconds\n",
      "EPOCH : 85,  Training accuracy : 0.999,  Validation accuracy : 0.944,  using : 5.77 seconds\n",
      "EPOCH : 86,  Training accuracy : 0.999,  Validation accuracy : 0.935,  using : 5.64 seconds\n",
      "EPOCH : 87,  Training accuracy : 0.999,  Validation accuracy : 0.949,  using : 5.91 seconds\n",
      "EPOCH : 88,  Training accuracy : 0.999,  Validation accuracy : 0.947,  using : 5.75 seconds\n",
      "EPOCH : 89,  Training accuracy : 0.994,  Validation accuracy : 0.918,  using : 5.68 seconds\n"
     ]
    },
    {
     "name": "stdout",
     "output_type": "stream",
     "text": [
      "EPOCH : 90,  Training accuracy : 0.999,  Validation accuracy : 0.948,  using : 5.76 seconds\n",
      "EPOCH : 91,  Training accuracy : 0.995,  Validation accuracy : 0.934,  using : 5.74 seconds\n",
      "EPOCH : 92,  Training accuracy : 0.996,  Validation accuracy : 0.927,  using : 5.70 seconds\n",
      "EPOCH : 93,  Training accuracy : 0.998,  Validation accuracy : 0.935,  using : 5.64 seconds\n",
      "EPOCH : 94,  Training accuracy : 0.999,  Validation accuracy : 0.935,  using : 5.65 seconds\n",
      "EPOCH : 95,  Training accuracy : 0.999,  Validation accuracy : 0.952,  using : 6.17 seconds\n",
      "EPOCH : 96,  Training accuracy : 1.000,  Validation accuracy : 0.950,  using : 5.77 seconds\n",
      "EPOCH : 97,  Training accuracy : 1.000,  Validation accuracy : 0.955,  using : 5.90 seconds\n",
      "EPOCH : 98,  Training accuracy : 1.000,  Validation accuracy : 0.956,  using : 6.21 seconds\n",
      "EPOCH : 99,  Training accuracy : 1.000,  Validation accuracy : 0.957,  using : 6.23 seconds\n",
      "EPOCH : 100,  Training accuracy : 1.000,  Validation accuracy : 0.957,  using : 6.47 seconds\n",
      "EPOCH : 101,  Training accuracy : 1.000,  Validation accuracy : 0.957,  using : 6.19 seconds\n",
      "EPOCH : 102,  Training accuracy : 1.000,  Validation accuracy : 0.957,  using : 6.43 seconds\n",
      "EPOCH : 103,  Training accuracy : 1.000,  Validation accuracy : 0.957,  using : 6.31 seconds\n",
      "EPOCH : 104,  Training accuracy : 1.000,  Validation accuracy : 0.957,  using : 6.82 seconds\n",
      "EPOCH : 105,  Training accuracy : 1.000,  Validation accuracy : 0.957,  using : 6.56 seconds\n",
      "EPOCH : 106,  Training accuracy : 1.000,  Validation accuracy : 0.957,  using : 6.37 seconds\n",
      "EPOCH : 107,  Training accuracy : 1.000,  Validation accuracy : 0.957,  using : 6.34 seconds\n",
      "EPOCH : 108,  Training accuracy : 1.000,  Validation accuracy : 0.957,  using : 6.26 seconds\n",
      "EPOCH : 109,  Training accuracy : 1.000,  Validation accuracy : 0.957,  using : 6.22 seconds\n",
      "EPOCH : 110,  Training accuracy : 1.000,  Validation accuracy : 0.958,  using : 6.19 seconds\n",
      "EPOCH : 111,  Training accuracy : 1.000,  Validation accuracy : 0.958,  using : 6.01 seconds\n",
      "EPOCH : 112,  Training accuracy : 1.000,  Validation accuracy : 0.958,  using : 6.40 seconds\n",
      "EPOCH : 113,  Training accuracy : 1.000,  Validation accuracy : 0.959,  using : 6.01 seconds\n",
      "EPOCH : 114,  Training accuracy : 1.000,  Validation accuracy : 0.959,  using : 5.86 seconds\n",
      "EPOCH : 115,  Training accuracy : 1.000,  Validation accuracy : 0.959,  using : 5.85 seconds\n",
      "EPOCH : 116,  Training accuracy : 1.000,  Validation accuracy : 0.959,  using : 5.86 seconds\n",
      "EPOCH : 117,  Training accuracy : 1.000,  Validation accuracy : 0.959,  using : 5.78 seconds\n",
      "EPOCH : 118,  Training accuracy : 1.000,  Validation accuracy : 0.958,  using : 5.63 seconds\n",
      "EPOCH : 119,  Training accuracy : 1.000,  Validation accuracy : 0.958,  using : 5.75 seconds\n",
      "EPOCH : 120,  Training accuracy : 1.000,  Validation accuracy : 0.958,  using : 5.76 seconds\n",
      "EPOCH : 121,  Training accuracy : 1.000,  Validation accuracy : 0.959,  using : 5.76 seconds\n",
      "EPOCH : 122,  Training accuracy : 1.000,  Validation accuracy : 0.959,  using : 5.66 seconds\n",
      "EPOCH : 123,  Training accuracy : 1.000,  Validation accuracy : 0.959,  using : 5.87 seconds\n",
      "EPOCH : 124,  Training accuracy : 1.000,  Validation accuracy : 0.959,  using : 5.84 seconds\n",
      "EPOCH : 125,  Training accuracy : 1.000,  Validation accuracy : 0.959,  using : 6.22 seconds\n",
      "EPOCH : 126,  Training accuracy : 1.000,  Validation accuracy : 0.959,  using : 5.94 seconds\n",
      "EPOCH : 127,  Training accuracy : 1.000,  Validation accuracy : 0.959,  using : 6.05 seconds\n",
      "EPOCH : 128,  Training accuracy : 1.000,  Validation accuracy : 0.959,  using : 5.80 seconds\n",
      "EPOCH : 129,  Training accuracy : 1.000,  Validation accuracy : 0.959,  using : 6.01 seconds\n",
      "EPOCH : 130,  Training accuracy : 1.000,  Validation accuracy : 0.959,  using : 6.27 seconds\n",
      "EPOCH : 131,  Training accuracy : 1.000,  Validation accuracy : 0.959,  using : 5.86 seconds\n",
      "EPOCH : 132,  Training accuracy : 1.000,  Validation accuracy : 0.959,  using : 5.94 seconds\n",
      "EPOCH : 133,  Training accuracy : 1.000,  Validation accuracy : 0.959,  using : 5.77 seconds\n",
      "EPOCH : 134,  Training accuracy : 1.000,  Validation accuracy : 0.959,  using : 5.97 seconds\n",
      "EPOCH : 135,  Training accuracy : 1.000,  Validation accuracy : 0.960,  using : 6.29 seconds\n",
      "EPOCH : 136,  Training accuracy : 1.000,  Validation accuracy : 0.961,  using : 5.92 seconds\n",
      "EPOCH : 137,  Training accuracy : 1.000,  Validation accuracy : 0.960,  using : 5.93 seconds\n",
      "EPOCH : 138,  Training accuracy : 1.000,  Validation accuracy : 0.960,  using : 6.06 seconds\n",
      "EPOCH : 139,  Training accuracy : 1.000,  Validation accuracy : 0.960,  using : 6.13 seconds\n",
      "EPOCH : 140,  Training accuracy : 1.000,  Validation accuracy : 0.961,  using : 5.79 seconds\n",
      "EPOCH : 141,  Training accuracy : 1.000,  Validation accuracy : 0.961,  using : 5.82 seconds\n",
      "EPOCH : 142,  Training accuracy : 1.000,  Validation accuracy : 0.961,  using : 5.78 seconds\n",
      "EPOCH : 143,  Training accuracy : 1.000,  Validation accuracy : 0.961,  using : 5.74 seconds\n",
      "EPOCH : 144,  Training accuracy : 1.000,  Validation accuracy : 0.961,  using : 5.81 seconds\n",
      "EPOCH : 145,  Training accuracy : 1.000,  Validation accuracy : 0.961,  using : 5.93 seconds\n",
      "EPOCH : 146,  Training accuracy : 1.000,  Validation accuracy : 0.961,  using : 5.68 seconds\n",
      "EPOCH : 147,  Training accuracy : 1.000,  Validation accuracy : 0.961,  using : 5.86 seconds\n",
      "EPOCH : 148,  Training accuracy : 1.000,  Validation accuracy : 0.961,  using : 5.77 seconds\n",
      "EPOCH : 149,  Training accuracy : 1.000,  Validation accuracy : 0.961,  using : 5.79 seconds\n",
      "EPOCH : 150,  Training accuracy : 1.000,  Validation accuracy : 0.962,  using : 5.87 seconds\n",
      "EPOCH : 151,  Training accuracy : 1.000,  Validation accuracy : 0.962,  using : 5.68 seconds\n",
      "EPOCH : 152,  Training accuracy : 1.000,  Validation accuracy : 0.962,  using : 5.71 seconds\n",
      "EPOCH : 153,  Training accuracy : 1.000,  Validation accuracy : 0.962,  using : 5.69 seconds\n",
      "EPOCH : 154,  Training accuracy : 1.000,  Validation accuracy : 0.962,  using : 5.74 seconds\n",
      "EPOCH : 155,  Training accuracy : 1.000,  Validation accuracy : 0.962,  using : 5.67 seconds\n",
      "EPOCH : 156,  Training accuracy : 1.000,  Validation accuracy : 0.962,  using : 5.82 seconds\n",
      "EPOCH : 157,  Training accuracy : 1.000,  Validation accuracy : 0.962,  using : 5.73 seconds\n",
      "EPOCH : 158,  Training accuracy : 1.000,  Validation accuracy : 0.962,  using : 6.11 seconds\n",
      "EPOCH : 159,  Training accuracy : 1.000,  Validation accuracy : 0.962,  using : 5.93 seconds\n",
      "EPOCH : 160,  Training accuracy : 1.000,  Validation accuracy : 0.963,  using : 6.20 seconds\n",
      "EPOCH : 161,  Training accuracy : 1.000,  Validation accuracy : 0.962,  using : 6.17 seconds\n",
      "EPOCH : 162,  Training accuracy : 1.000,  Validation accuracy : 0.962,  using : 5.97 seconds\n",
      "EPOCH : 163,  Training accuracy : 1.000,  Validation accuracy : 0.962,  using : 6.19 seconds\n",
      "EPOCH : 164,  Training accuracy : 1.000,  Validation accuracy : 0.962,  using : 5.74 seconds\n",
      "EPOCH : 165,  Training accuracy : 1.000,  Validation accuracy : 0.961,  using : 5.91 seconds\n",
      "EPOCH : 166,  Training accuracy : 1.000,  Validation accuracy : 0.961,  using : 6.09 seconds\n",
      "EPOCH : 167,  Training accuracy : 1.000,  Validation accuracy : 0.961,  using : 6.15 seconds\n",
      "EPOCH : 168,  Training accuracy : 1.000,  Validation accuracy : 0.961,  using : 5.80 seconds\n",
      "EPOCH : 169,  Training accuracy : 1.000,  Validation accuracy : 0.961,  using : 5.75 seconds\n",
      "EPOCH : 170,  Training accuracy : 1.000,  Validation accuracy : 0.961,  using : 5.89 seconds\n",
      "EPOCH : 171,  Training accuracy : 1.000,  Validation accuracy : 0.961,  using : 5.80 seconds\n",
      "EPOCH : 172,  Training accuracy : 1.000,  Validation accuracy : 0.961,  using : 5.75 seconds\n",
      "EPOCH : 173,  Training accuracy : 1.000,  Validation accuracy : 0.961,  using : 5.85 seconds\n",
      "EPOCH : 174,  Training accuracy : 1.000,  Validation accuracy : 0.961,  using : 5.80 seconds\n",
      "EPOCH : 175,  Training accuracy : 1.000,  Validation accuracy : 0.961,  using : 5.66 seconds\n",
      "EPOCH : 176,  Training accuracy : 1.000,  Validation accuracy : 0.961,  using : 5.85 seconds\n",
      "EPOCH : 177,  Training accuracy : 1.000,  Validation accuracy : 0.961,  using : 5.77 seconds\n",
      "EPOCH : 178,  Training accuracy : 1.000,  Validation accuracy : 0.960,  using : 5.82 seconds\n"
     ]
    },
    {
     "name": "stdout",
     "output_type": "stream",
     "text": [
      "EPOCH : 179,  Training accuracy : 1.000,  Validation accuracy : 0.960,  using : 5.80 seconds\n",
      "EPOCH : 180,  Training accuracy : 1.000,  Validation accuracy : 0.960,  using : 6.00 seconds\n",
      "EPOCH : 181,  Training accuracy : 1.000,  Validation accuracy : 0.960,  using : 6.24 seconds\n",
      "EPOCH : 182,  Training accuracy : 1.000,  Validation accuracy : 0.959,  using : 5.80 seconds\n",
      "EPOCH : 183,  Training accuracy : 1.000,  Validation accuracy : 0.959,  using : 5.97 seconds\n",
      "EPOCH : 184,  Training accuracy : 1.000,  Validation accuracy : 0.959,  using : 5.74 seconds\n",
      "EPOCH : 185,  Training accuracy : 1.000,  Validation accuracy : 0.959,  using : 5.81 seconds\n",
      "EPOCH : 186,  Training accuracy : 0.996,  Validation accuracy : 0.932,  using : 5.80 seconds\n",
      "EPOCH : 187,  Training accuracy : 0.999,  Validation accuracy : 0.935,  using : 5.80 seconds\n",
      "EPOCH : 188,  Training accuracy : 0.999,  Validation accuracy : 0.940,  using : 5.69 seconds\n",
      "EPOCH : 189,  Training accuracy : 1.000,  Validation accuracy : 0.946,  using : 5.78 seconds\n",
      "EPOCH : 190,  Training accuracy : 1.000,  Validation accuracy : 0.949,  using : 5.67 seconds\n",
      "EPOCH : 191,  Training accuracy : 1.000,  Validation accuracy : 0.950,  using : 5.84 seconds\n",
      "EPOCH : 192,  Training accuracy : 1.000,  Validation accuracy : 0.950,  using : 5.81 seconds\n",
      "EPOCH : 193,  Training accuracy : 1.000,  Validation accuracy : 0.950,  using : 5.69 seconds\n",
      "EPOCH : 194,  Training accuracy : 1.000,  Validation accuracy : 0.951,  using : 5.64 seconds\n",
      "EPOCH : 195,  Training accuracy : 1.000,  Validation accuracy : 0.952,  using : 5.71 seconds\n",
      "EPOCH : 196,  Training accuracy : 1.000,  Validation accuracy : 0.951,  using : 5.86 seconds\n",
      "EPOCH : 197,  Training accuracy : 1.000,  Validation accuracy : 0.951,  using : 5.73 seconds\n",
      "EPOCH : 198,  Training accuracy : 1.000,  Validation accuracy : 0.951,  using : 5.67 seconds\n",
      "EPOCH : 199,  Training accuracy : 1.000,  Validation accuracy : 0.951,  using : 5.92 seconds\n",
      "EPOCH : 200,  Training accuracy : 1.000,  Validation accuracy : 0.950,  using : 5.72 seconds\n",
      "EPOCH : 201,  Training accuracy : 1.000,  Validation accuracy : 0.951,  using : 6.01 seconds\n",
      "EPOCH : 202,  Training accuracy : 1.000,  Validation accuracy : 0.951,  using : 6.36 seconds\n",
      "EPOCH : 203,  Training accuracy : 1.000,  Validation accuracy : 0.951,  using : 6.32 seconds\n",
      "EPOCH : 204,  Training accuracy : 1.000,  Validation accuracy : 0.951,  using : 6.17 seconds\n",
      "EPOCH : 205,  Training accuracy : 1.000,  Validation accuracy : 0.951,  using : 6.20 seconds\n",
      "EPOCH : 206,  Training accuracy : 0.976,  Validation accuracy : 0.898,  using : 6.04 seconds\n",
      "EPOCH : 207,  Training accuracy : 0.999,  Validation accuracy : 0.946,  using : 6.10 seconds\n",
      "EPOCH : 208,  Training accuracy : 0.998,  Validation accuracy : 0.944,  using : 5.97 seconds\n",
      "EPOCH : 209,  Training accuracy : 0.999,  Validation accuracy : 0.943,  using : 6.02 seconds\n",
      "EPOCH : 210,  Training accuracy : 1.000,  Validation accuracy : 0.948,  using : 6.67 seconds\n",
      "EPOCH : 211,  Training accuracy : 0.998,  Validation accuracy : 0.944,  using : 6.33 seconds\n",
      "EPOCH : 212,  Training accuracy : 0.994,  Validation accuracy : 0.931,  using : 6.65 seconds\n",
      "EPOCH : 213,  Training accuracy : 0.997,  Validation accuracy : 0.944,  using : 6.24 seconds\n",
      "EPOCH : 214,  Training accuracy : 1.000,  Validation accuracy : 0.962,  using : 6.07 seconds\n",
      "EPOCH : 215,  Training accuracy : 1.000,  Validation accuracy : 0.959,  using : 6.00 seconds\n",
      "EPOCH : 216,  Training accuracy : 1.000,  Validation accuracy : 0.962,  using : 5.84 seconds\n",
      "EPOCH : 217,  Training accuracy : 1.000,  Validation accuracy : 0.962,  using : 5.70 seconds\n",
      "EPOCH : 218,  Training accuracy : 1.000,  Validation accuracy : 0.962,  using : 5.76 seconds\n",
      "EPOCH : 219,  Training accuracy : 1.000,  Validation accuracy : 0.961,  using : 5.69 seconds\n",
      "EPOCH : 220,  Training accuracy : 1.000,  Validation accuracy : 0.960,  using : 5.77 seconds\n",
      "EPOCH : 221,  Training accuracy : 1.000,  Validation accuracy : 0.961,  using : 5.84 seconds\n",
      "EPOCH : 222,  Training accuracy : 1.000,  Validation accuracy : 0.961,  using : 5.81 seconds\n",
      "EPOCH : 223,  Training accuracy : 1.000,  Validation accuracy : 0.961,  using : 5.68 seconds\n",
      "EPOCH : 224,  Training accuracy : 1.000,  Validation accuracy : 0.961,  using : 5.73 seconds\n",
      "EPOCH : 225,  Training accuracy : 1.000,  Validation accuracy : 0.961,  using : 6.00 seconds\n",
      "EPOCH : 226,  Training accuracy : 1.000,  Validation accuracy : 0.961,  using : 6.19 seconds\n",
      "EPOCH : 227,  Training accuracy : 1.000,  Validation accuracy : 0.962,  using : 6.23 seconds\n",
      "EPOCH : 228,  Training accuracy : 1.000,  Validation accuracy : 0.961,  using : 5.95 seconds\n",
      "EPOCH : 229,  Training accuracy : 1.000,  Validation accuracy : 0.962,  using : 6.56 seconds\n",
      "EPOCH : 230,  Training accuracy : 1.000,  Validation accuracy : 0.961,  using : 6.39 seconds\n",
      "EPOCH : 231,  Training accuracy : 1.000,  Validation accuracy : 0.961,  using : 6.25 seconds\n",
      "EPOCH : 232,  Training accuracy : 1.000,  Validation accuracy : 0.961,  using : 6.21 seconds\n",
      "EPOCH : 233,  Training accuracy : 1.000,  Validation accuracy : 0.961,  using : 6.31 seconds\n",
      "EPOCH : 234,  Training accuracy : 1.000,  Validation accuracy : 0.961,  using : 5.97 seconds\n",
      "EPOCH : 235,  Training accuracy : 1.000,  Validation accuracy : 0.961,  using : 6.13 seconds\n",
      "EPOCH : 236,  Training accuracy : 1.000,  Validation accuracy : 0.961,  using : 5.92 seconds\n",
      "EPOCH : 237,  Training accuracy : 1.000,  Validation accuracy : 0.961,  using : 6.05 seconds\n",
      "EPOCH : 238,  Training accuracy : 1.000,  Validation accuracy : 0.961,  using : 6.31 seconds\n",
      "EPOCH : 239,  Training accuracy : 1.000,  Validation accuracy : 0.961,  using : 6.11 seconds\n",
      "EPOCH : 240,  Training accuracy : 1.000,  Validation accuracy : 0.961,  using : 5.89 seconds\n",
      "EPOCH : 241,  Training accuracy : 1.000,  Validation accuracy : 0.961,  using : 6.22 seconds\n",
      "EPOCH : 242,  Training accuracy : 1.000,  Validation accuracy : 0.960,  using : 6.23 seconds\n",
      "EPOCH : 243,  Training accuracy : 1.000,  Validation accuracy : 0.961,  using : 5.78 seconds\n",
      "EPOCH : 244,  Training accuracy : 1.000,  Validation accuracy : 0.961,  using : 6.49 seconds\n",
      "EPOCH : 245,  Training accuracy : 1.000,  Validation accuracy : 0.961,  using : 6.60 seconds\n",
      "EPOCH : 246,  Training accuracy : 1.000,  Validation accuracy : 0.961,  using : 6.50 seconds\n",
      "EPOCH : 247,  Training accuracy : 1.000,  Validation accuracy : 0.961,  using : 6.26 seconds\n",
      "EPOCH : 248,  Training accuracy : 1.000,  Validation accuracy : 0.961,  using : 6.33 seconds\n",
      "EPOCH : 249,  Training accuracy : 1.000,  Validation accuracy : 0.961,  using : 6.58 seconds\n",
      "EPOCH : 250,  Training accuracy : 1.000,  Validation accuracy : 0.961,  using : 6.01 seconds\n",
      "EPOCH : 251,  Training accuracy : 1.000,  Validation accuracy : 0.961,  using : 6.36 seconds\n",
      "EPOCH : 252,  Training accuracy : 1.000,  Validation accuracy : 0.961,  using : 7.02 seconds\n",
      "EPOCH : 253,  Training accuracy : 1.000,  Validation accuracy : 0.960,  using : 6.51 seconds\n",
      "EPOCH : 254,  Training accuracy : 1.000,  Validation accuracy : 0.960,  using : 6.98 seconds\n",
      "EPOCH : 255,  Training accuracy : 1.000,  Validation accuracy : 0.960,  using : 6.93 seconds\n",
      "EPOCH : 256,  Training accuracy : 1.000,  Validation accuracy : 0.959,  using : 6.24 seconds\n",
      "EPOCH : 257,  Training accuracy : 1.000,  Validation accuracy : 0.959,  using : 6.72 seconds\n",
      "EPOCH : 258,  Training accuracy : 1.000,  Validation accuracy : 0.960,  using : 6.10 seconds\n",
      "EPOCH : 259,  Training accuracy : 1.000,  Validation accuracy : 0.959,  using : 6.22 seconds\n",
      "EPOCH : 260,  Training accuracy : 1.000,  Validation accuracy : 0.959,  using : 6.59 seconds\n",
      "EPOCH : 261,  Training accuracy : 1.000,  Validation accuracy : 0.959,  using : 7.00 seconds\n",
      "EPOCH : 262,  Training accuracy : 1.000,  Validation accuracy : 0.959,  using : 6.83 seconds\n",
      "EPOCH : 263,  Training accuracy : 1.000,  Validation accuracy : 0.959,  using : 6.21 seconds\n",
      "EPOCH : 264,  Training accuracy : 1.000,  Validation accuracy : 0.959,  using : 6.00 seconds\n",
      "EPOCH : 265,  Training accuracy : 1.000,  Validation accuracy : 0.959,  using : 6.23 seconds\n",
      "EPOCH : 266,  Training accuracy : 1.000,  Validation accuracy : 0.960,  using : 6.23 seconds\n",
      "EPOCH : 267,  Training accuracy : 1.000,  Validation accuracy : 0.960,  using : 6.54 seconds\n"
     ]
    },
    {
     "name": "stdout",
     "output_type": "stream",
     "text": [
      "EPOCH : 268,  Training accuracy : 1.000,  Validation accuracy : 0.960,  using : 7.00 seconds\n",
      "EPOCH : 269,  Training accuracy : 1.000,  Validation accuracy : 0.960,  using : 7.12 seconds\n",
      "EPOCH : 270,  Training accuracy : 1.000,  Validation accuracy : 0.960,  using : 6.67 seconds\n",
      "EPOCH : 271,  Training accuracy : 1.000,  Validation accuracy : 0.960,  using : 6.66 seconds\n",
      "EPOCH : 272,  Training accuracy : 1.000,  Validation accuracy : 0.960,  using : 6.41 seconds\n",
      "EPOCH : 273,  Training accuracy : 1.000,  Validation accuracy : 0.960,  using : 6.51 seconds\n",
      "EPOCH : 274,  Training accuracy : 1.000,  Validation accuracy : 0.960,  using : 7.00 seconds\n",
      "EPOCH : 275,  Training accuracy : 1.000,  Validation accuracy : 0.960,  using : 7.01 seconds\n",
      "EPOCH : 276,  Training accuracy : 1.000,  Validation accuracy : 0.960,  using : 6.90 seconds\n",
      "EPOCH : 277,  Training accuracy : 1.000,  Validation accuracy : 0.960,  using : 6.56 seconds\n",
      "EPOCH : 278,  Training accuracy : 1.000,  Validation accuracy : 0.959,  using : 6.27 seconds\n",
      "EPOCH : 279,  Training accuracy : 1.000,  Validation accuracy : 0.959,  using : 6.28 seconds\n",
      "EPOCH : 280,  Training accuracy : 1.000,  Validation accuracy : 0.959,  using : 5.83 seconds\n",
      "EPOCH : 281,  Training accuracy : 1.000,  Validation accuracy : 0.960,  using : 5.96 seconds\n",
      "EPOCH : 282,  Training accuracy : 1.000,  Validation accuracy : 0.959,  using : 5.87 seconds\n",
      "EPOCH : 283,  Training accuracy : 1.000,  Validation accuracy : 0.959,  using : 5.83 seconds\n",
      "EPOCH : 284,  Training accuracy : 1.000,  Validation accuracy : 0.959,  using : 5.77 seconds\n",
      "EPOCH : 285,  Training accuracy : 1.000,  Validation accuracy : 0.959,  using : 5.85 seconds\n",
      "EPOCH : 286,  Training accuracy : 1.000,  Validation accuracy : 0.959,  using : 6.03 seconds\n",
      "EPOCH : 287,  Training accuracy : 1.000,  Validation accuracy : 0.959,  using : 5.89 seconds\n",
      "EPOCH : 288,  Training accuracy : 1.000,  Validation accuracy : 0.959,  using : 6.26 seconds\n",
      "EPOCH : 289,  Training accuracy : 0.942,  Validation accuracy : 0.864,  using : 6.48 seconds\n",
      "EPOCH : 290,  Training accuracy : 0.998,  Validation accuracy : 0.937,  using : 6.02 seconds\n",
      "EPOCH : 291,  Training accuracy : 0.999,  Validation accuracy : 0.951,  using : 5.91 seconds\n",
      "EPOCH : 292,  Training accuracy : 1.000,  Validation accuracy : 0.954,  using : 6.27 seconds\n",
      "EPOCH : 293,  Training accuracy : 0.996,  Validation accuracy : 0.949,  using : 6.12 seconds\n",
      "EPOCH : 294,  Training accuracy : 0.999,  Validation accuracy : 0.950,  using : 5.80 seconds\n",
      "EPOCH : 295,  Training accuracy : 1.000,  Validation accuracy : 0.957,  using : 5.92 seconds\n",
      "EPOCH : 296,  Training accuracy : 1.000,  Validation accuracy : 0.952,  using : 5.96 seconds\n",
      "EPOCH : 297,  Training accuracy : 0.999,  Validation accuracy : 0.955,  using : 6.18 seconds\n",
      "EPOCH : 298,  Training accuracy : 0.997,  Validation accuracy : 0.941,  using : 6.42 seconds\n",
      "EPOCH : 299,  Training accuracy : 1.000,  Validation accuracy : 0.952,  using : 6.11 seconds\n",
      "EPOCH : 300,  Training accuracy : 1.000,  Validation accuracy : 0.957,  using : 6.04 seconds\n",
      "EPOCH : 301,  Training accuracy : 0.997,  Validation accuracy : 0.940,  using : 6.16 seconds\n",
      "EPOCH : 302,  Training accuracy : 1.000,  Validation accuracy : 0.961,  using : 6.02 seconds\n",
      "EPOCH : 303,  Training accuracy : 0.999,  Validation accuracy : 0.959,  using : 5.88 seconds\n",
      "EPOCH : 304,  Training accuracy : 0.998,  Validation accuracy : 0.951,  using : 6.41 seconds\n"
     ]
    }
   ],
   "source": [
    "import time\n",
    "train_history = []\n",
    "valid_history = []\n",
    "gen=False\n",
    "steps_per_epoch = 500\n",
    "\n",
    "with tf.Session() as sess:\n",
    "    sess.run(tf.global_variables_initializer())\n",
    "    num_examples = len(x_train)\n",
    "    \n",
    "    for i in range(EPOCHS):\n",
    "        begin = time.time()\n",
    "        if not gen:\n",
    "            for offset in range(0, num_examples, BATCH_SIZE):\n",
    "                end = offset + BATCH_SIZE\n",
    "                batch_x, batch_y = x_train[offset:end], y_train[offset:end]\n",
    "                sess.run(train_operation, feed_dict={x: batch_x, y: batch_y})\n",
    "        else:\n",
    "            counter = 0\n",
    "            for batch_x, batch_y in data_gen.flow(x_train, y_train, batch_size=BATCH_SIZE):\n",
    "                sess.run(train_operation, feed_dict={x:batch_x, y:batch_y})\n",
    "                counter += 1\n",
    "                if counter == steps_per_epoch:\n",
    "                    break\n",
    "            \n",
    "        training_accuracy = evaluate(x_train, y_train)\n",
    "        validation_accuracy = evaluate(X_valid, y_valid)\n",
    "        valid_history.append(validation_accuracy)\n",
    "        train_history.append(training_accuracy)\n",
    "        used_time = time.time() - begin\n",
    "        print(\"EPOCH : {},  Training accuracy : {:.3f},  Validation accuracy : {:.3f},  using : {:.2f} seconds\".format(i,training_accuracy,validation_accuracy, used_time))\n",
    "        \n",
    "        if validation_accuracy >= 0.98:\n",
    "            print(\"early stop at 98% validation acuuracy\")\n",
    "            break\n",
    "            \n",
    "        \n",
    "\n",
    "    saver.save(sess, './model')\n",
    "    print(\"Model saved\")\n",
    "    \n",
    "plt.plot(train_history, color='r')\n",
    "plt.plot(valid_history, color='b')\n",
    "plt.grid()\n",
    "\n",
    "plt.show()"
   ]
  },
  {
   "cell_type": "code",
   "execution_count": null,
   "metadata": {},
   "outputs": [],
   "source": [
    "#testing\n",
    "with tf.Session() as sess:\n",
    "    saver.restore(sess, tf.train.latest_checkpoint('.'))\n",
    "    test_accuracy = evaluate(X_test, y_test)\n",
    "    test_acc.append(test_accuracy)\n",
    "    print(\"Test accuracy = {:.4f}\".format(test_accuracy))"
   ]
  },
  {
   "cell_type": "markdown",
   "metadata": {},
   "source": [
    "---\n",
    "\n",
    "## Step 3: Test a Model on New Images\n",
    "\n",
    "To give yourself more insight into how your model is working, download at least five pictures of German traffic signs from the web and use your model to predict the traffic sign type.\n",
    "\n",
    "You may find `signnames.csv` useful as it contains mappings from the class id (integer) to the actual sign name."
   ]
  },
  {
   "cell_type": "markdown",
   "metadata": {},
   "source": [
    "### Load and Output the Images"
   ]
  },
  {
   "cell_type": "code",
   "execution_count": null,
   "metadata": {},
   "outputs": [],
   "source": [
    "### Load the images and plot them here.\n",
    "### Feel free to use as many code cells as needed.\n",
    "#final test  is download from the website of German traffic sign , version 2019-5-10 update\n",
    "from matplotlib.image import imread\n",
    "import pandas as pd\n",
    "import os\n",
    "\n",
    "final_test_image_dir = './Final_Test/Images/'\n",
    "final_test_labels_dir = 'Final_Test/GT-final_test.csv'\n",
    "\n",
    "label_df = pd.read_csv(final_test_labels_dir, sep=';')\n",
    "\n",
    "img = imread(final_test_image_dir+'10054.ppm')\n",
    "plt.imshow(img)"
   ]
  },
  {
   "cell_type": "code",
   "execution_count": null,
   "metadata": {},
   "outputs": [],
   "source": [
    "type(x_train), print(x_train.shape)"
   ]
  },
  {
   "cell_type": "code",
   "execution_count": null,
   "metadata": {},
   "outputs": [],
   "source": [
    "for file in os.listdir(final_test_image_dir)[:5]:\n",
    "    print(label_df[label_df['Filename']==file]['ClassId'])    "
   ]
  },
  {
   "cell_type": "code",
   "execution_count": null,
   "metadata": {},
   "outputs": [],
   "source": [
    "with tf.Session() as sess:\n",
    "    saver.restore(sess, tf.train.latest_checkpoint('.'))\n",
    "    test_accuracy = evaluate(X_test, y_test)\n",
    "    test_acc.append(test_accuracy)\n",
    "    print(\"Test accuracy = {:.3f}\".format(test_accuracy))"
   ]
  },
  {
   "cell_type": "markdown",
   "metadata": {},
   "source": [
    "### Predict the Sign Type for Each Image"
   ]
  },
  {
   "cell_type": "code",
   "execution_count": 344,
   "metadata": {},
   "outputs": [],
   "source": [
    "### Run the predictions here and use the model to output the prediction for each image.\n",
    "### Make sure to pre-process the images with the same pre-processing pipeline used earlier.\n",
    "### Feel free to use as many code cells as needed.\n",
    "with tf.Session() as sess:\n",
    "    sess.global_variable_initializer()\n",
    "    sess.run()"
   ]
  },
  {
   "cell_type": "markdown",
   "metadata": {},
   "source": [
    "### Analyze Performance"
   ]
  },
  {
   "cell_type": "code",
   "execution_count": 4,
   "metadata": {
    "collapsed": true
   },
   "outputs": [],
   "source": [
    "### Calculate the accuracy for these 5 new images. \n",
    "### For example, if the model predicted 1 out of 5 signs correctly, it's 20% accurate on these new images."
   ]
  },
  {
   "cell_type": "markdown",
   "metadata": {},
   "source": [
    "### Output Top 5 Softmax Probabilities For Each Image Found on the Web"
   ]
  },
  {
   "cell_type": "markdown",
   "metadata": {},
   "source": [
    "For each of the new images, print out the model's softmax probabilities to show the **certainty** of the model's predictions (limit the output to the top 5 probabilities for each image). [`tf.nn.top_k`](https://www.tensorflow.org/versions/r0.12/api_docs/python/nn.html#top_k) could prove helpful here. \n",
    "\n",
    "The example below demonstrates how tf.nn.top_k can be used to find the top k predictions for each image.\n",
    "\n",
    "`tf.nn.top_k` will return the values and indices (class ids) of the top k predictions. So if k=3, for each sign, it'll return the 3 largest probabilities (out of a possible 43) and the correspoding class ids.\n",
    "\n",
    "Take this numpy array as an example. The values in the array represent predictions. The array contains softmax probabilities for five candidate images with six possible classes. `tf.nn.top_k` is used to choose the three classes with the highest probability:\n",
    "\n",
    "```\n",
    "# (5, 6) array\n",
    "a = np.array([[ 0.24879643,  0.07032244,  0.12641572,  0.34763842,  0.07893497,\n",
    "         0.12789202],\n",
    "       [ 0.28086119,  0.27569815,  0.08594638,  0.0178669 ,  0.18063401,\n",
    "         0.15899337],\n",
    "       [ 0.26076848,  0.23664738,  0.08020603,  0.07001922,  0.1134371 ,\n",
    "         0.23892179],\n",
    "       [ 0.11943333,  0.29198961,  0.02605103,  0.26234032,  0.1351348 ,\n",
    "         0.16505091],\n",
    "       [ 0.09561176,  0.34396535,  0.0643941 ,  0.16240774,  0.24206137,\n",
    "         0.09155967]])\n",
    "```\n",
    "\n",
    "Running it through `sess.run(tf.nn.top_k(tf.constant(a), k=3))` produces:\n",
    "\n",
    "```\n",
    "TopKV2(values=array([[ 0.34763842,  0.24879643,  0.12789202],\n",
    "       [ 0.28086119,  0.27569815,  0.18063401],\n",
    "       [ 0.26076848,  0.23892179,  0.23664738],\n",
    "       [ 0.29198961,  0.26234032,  0.16505091],\n",
    "       [ 0.34396535,  0.24206137,  0.16240774]]), indices=array([[3, 0, 5],\n",
    "       [0, 1, 4],\n",
    "       [0, 5, 1],\n",
    "       [1, 3, 5],\n",
    "       [1, 4, 3]], dtype=int32))\n",
    "```\n",
    "\n",
    "Looking just at the first row we get `[ 0.34763842,  0.24879643,  0.12789202]`, you can confirm these are the 3 largest probabilities in `a`. You'll also notice `[3, 0, 5]` are the corresponding indices."
   ]
  },
  {
   "cell_type": "code",
   "execution_count": 3,
   "metadata": {
    "collapsed": true
   },
   "outputs": [],
   "source": [
    "### Print out the top five softmax probabilities for the predictions on the German traffic sign images found on the web. \n",
    "### Feel free to use as many code cells as needed."
   ]
  },
  {
   "cell_type": "markdown",
   "metadata": {},
   "source": [
    "### Project Writeup\n",
    "\n",
    "Once you have completed the code implementation, document your results in a project writeup using this [template](https://github.com/udacity/CarND-Traffic-Sign-Classifier-Project/blob/master/writeup_template.md) as a guide. The writeup can be in a markdown or pdf file. "
   ]
  },
  {
   "cell_type": "markdown",
   "metadata": {},
   "source": [
    "> **Note**: Once you have completed all of the code implementations and successfully answered each question above, you may finalize your work by exporting the iPython Notebook as an HTML document. You can do this by using the menu above and navigating to  \\n\",\n",
    "    \"**File -> Download as -> HTML (.html)**. Include the finished document along with this notebook as your submission."
   ]
  },
  {
   "cell_type": "markdown",
   "metadata": {},
   "source": [
    "---\n",
    "\n",
    "## Step 4 (Optional): Visualize the Neural Network's State with Test Images\n",
    "\n",
    " This Section is not required to complete but acts as an additional excersise for understaning the output of a neural network's weights. While neural networks can be a great learning device they are often referred to as a black box. We can understand what the weights of a neural network look like better by plotting their feature maps. After successfully training your neural network you can see what it's feature maps look like by plotting the output of the network's weight layers in response to a test stimuli image. From these plotted feature maps, it's possible to see what characteristics of an image the network finds interesting. For a sign, maybe the inner network feature maps react with high activation to the sign's boundary outline or to the contrast in the sign's painted symbol.\n",
    "\n",
    " Provided for you below is the function code that allows you to get the visualization output of any tensorflow weight layer you want. The inputs to the function should be a stimuli image, one used during training or a new one you provided, and then the tensorflow variable name that represents the layer's state during the training process, for instance if you wanted to see what the [LeNet lab's](https://classroom.udacity.com/nanodegrees/nd013/parts/fbf77062-5703-404e-b60c-95b78b2f3f9e/modules/6df7ae49-c61c-4bb2-a23e-6527e69209ec/lessons/601ae704-1035-4287-8b11-e2c2716217ad/concepts/d4aca031-508f-4e0b-b493-e7b706120f81) feature maps looked like for it's second convolutional layer you could enter conv2 as the tf_activation variable.\n",
    "\n",
    "For an example of what feature map outputs look like, check out NVIDIA's results in their paper [End-to-End Deep Learning for Self-Driving Cars](https://devblogs.nvidia.com/parallelforall/deep-learning-self-driving-cars/) in the section Visualization of internal CNN State. NVIDIA was able to show that their network's inner weights had high activations to road boundary lines by comparing feature maps from an image with a clear path to one without. Try experimenting with a similar test to show that your trained network's weights are looking for interesting features, whether it's looking at differences in feature maps from images with or without a sign, or even what feature maps look like in a trained network vs a completely untrained one on the same sign image.\n",
    "\n",
    "<figure>\n",
    " <img src=\"visualize_cnn.png\" width=\"380\" alt=\"Combined Image\" />\n",
    " <figcaption>\n",
    " <p></p> \n",
    " <p style=\"text-align: center;\"> Your output should look something like this (above)</p> \n",
    " </figcaption>\n",
    "</figure>\n",
    " <p></p> \n"
   ]
  },
  {
   "cell_type": "code",
   "execution_count": null,
   "metadata": {
    "collapsed": true
   },
   "outputs": [],
   "source": [
    "### Visualize your network's feature maps here.\n",
    "### Feel free to use as many code cells as needed.\n",
    "\n",
    "# image_input: the test image being fed into the network to produce the feature maps\n",
    "# tf_activation: should be a tf variable name used during your training procedure that represents the calculated state of a specific weight layer\n",
    "# activation_min/max: can be used to view the activation contrast in more detail, by default matplot sets min and max to the actual min and max values of the output\n",
    "# plt_num: used to plot out multiple different weight feature map sets on the same block, just extend the plt number for each new feature map entry\n",
    "\n",
    "def outputFeatureMap(image_input, tf_activation, activation_min=-1, activation_max=-1 ,plt_num=1):\n",
    "    # Here make sure to preprocess your image_input in a way your network expects\n",
    "    # with size, normalization, ect if needed\n",
    "    # image_input =\n",
    "    # Note: x should be the same name as your network's tensorflow data placeholder variable\n",
    "    # If you get an error tf_activation is not defined it may be having trouble accessing the variable from inside a function\n",
    "    activation = tf_activation.eval(session=sess,feed_dict={x : image_input})\n",
    "    featuremaps = activation.shape[3]\n",
    "    plt.figure(plt_num, figsize=(15,15))\n",
    "    for featuremap in range(featuremaps):\n",
    "        plt.subplot(6,8, featuremap+1) # sets the number of feature maps to show on each row and column\n",
    "        plt.title('FeatureMap ' + str(featuremap)) # displays the feature map number\n",
    "        if activation_min != -1 & activation_max != -1:\n",
    "            plt.imshow(activation[0,:,:, featuremap], interpolation=\"nearest\", vmin =activation_min, vmax=activation_max, cmap=\"gray\")\n",
    "        elif activation_max != -1:\n",
    "            plt.imshow(activation[0,:,:, featuremap], interpolation=\"nearest\", vmax=activation_max, cmap=\"gray\")\n",
    "        elif activation_min !=-1:\n",
    "            plt.imshow(activation[0,:,:, featuremap], interpolation=\"nearest\", vmin=activation_min, cmap=\"gray\")\n",
    "        else:\n",
    "            plt.imshow(activation[0,:,:, featuremap], interpolation=\"nearest\", cmap=\"gray\")"
   ]
  }
 ],
 "metadata": {
  "anaconda-cloud": {},
  "kernelspec": {
   "display_name": "Python 3",
   "language": "python",
   "name": "python3"
  },
  "language_info": {
   "codemirror_mode": {
    "name": "ipython",
    "version": 3
   },
   "file_extension": ".py",
   "mimetype": "text/x-python",
   "name": "python",
   "nbconvert_exporter": "python",
   "pygments_lexer": "ipython3",
   "version": "3.7.3"
  }
 },
 "nbformat": 4,
 "nbformat_minor": 1
}
